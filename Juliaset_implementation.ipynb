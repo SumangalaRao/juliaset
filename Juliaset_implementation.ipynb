{
 "cells": [
  {
   "cell_type": "code",
   "execution_count": 9,
   "metadata": {},
   "outputs": [],
   "source": [
    "\"\"\"\n",
    "Created on April 10,2019\n",
    "@author Sumangala Rao\n",
    "\"\"\"\n",
    "\n",
    "from PIL import Image "
   ]
  },
  {
   "cell_type": "code",
   "execution_count": 2,
   "metadata": {},
   "outputs": [],
   "source": [
    "# setting the width, height and zoom  \n",
    "# of the image to be created \n",
    "w=1920\n",
    "h=1080\n",
    "zoom=1"
   ]
  },
  {
   "cell_type": "code",
   "execution_count": 3,
   "metadata": {},
   "outputs": [],
   "source": [
    "# creating the new image in RGB mode and loading the pixel data.  \n",
    "bitmap = Image.new(\"RGB\", (w, h), \"white\") \n",
    "pix = bitmap.load()   "
   ]
  },
  {
   "cell_type": "code",
   "execution_count": 4,
   "metadata": {},
   "outputs": [],
   "source": [
    "# setting up the variables according to  \n",
    "# the equation to  create the fractal \n",
    "cX, cY = -0.7, 0.27015\n",
    "moveX, moveY = 0.0, 0.0\n",
    "maxIter = 255"
   ]
  },
  {
   "cell_type": "code",
   "execution_count": 7,
   "metadata": {},
   "outputs": [],
   "source": [
    "for x in range(w): \n",
    "    for y in range(h): \n",
    "        zx = 1.5*(x - w/2)/(0.5*zoom*w) + moveX \n",
    "        zy = 1.0*(y - h/2)/(0.5*zoom*h) + moveY \n",
    "        i = maxIter \n",
    "        while zx*zx + zy*zy < 4 and i > 1: \n",
    "            tmp = zx*zx - zy*zy + cX \n",
    "            zy,zx = 2.0*zx*zy + cY, tmp \n",
    "            i -= 1\n",
    "            pix[x,y] = (i << 11) + (i << 20) + i*8#convert byte to RGB (3 bytes),to get more visually appealing colors  "
   ]
  },
  {
   "cell_type": "code",
   "execution_count": 8,
   "metadata": {},
   "outputs": [],
   "source": [
    "# to display the created fractal \n",
    "bitmap.show()"
   ]
  },
  {
   "cell_type": "code",
   "execution_count": null,
   "metadata": {},
   "outputs": [],
   "source": []
  }
 ],
 "metadata": {
  "kernelspec": {
   "display_name": "Python 3",
   "language": "python",
   "name": "python3"
  },
  "language_info": {
   "codemirror_mode": {
    "name": "ipython",
    "version": 3
   },
   "file_extension": ".py",
   "mimetype": "text/x-python",
   "name": "python",
   "nbconvert_exporter": "python",
   "pygments_lexer": "ipython3",
   "version": "3.7.0"
  }
 },
 "nbformat": 4,
 "nbformat_minor": 2
}
